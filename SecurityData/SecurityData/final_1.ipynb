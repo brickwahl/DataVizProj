{
 "cells": [
  {
   "cell_type": "code",
   "execution_count": null,
   "metadata": {},
   "outputs": [],
   "source": [
    "#newtable= devinf.merge(empinf, how='inner', left_on='user', right_on='user_id')\n",
    "#newtable2 = emainf.merge(htpinf, how='inner', left_on='id', right_on='id')\n",
    "#emainf= emainf.sort_values(by =['size'])\n",
    "#newtable2 = emainf.append(htpinf)\n",
    "#newtable2 = newtable2.sort_values(by=['id'])\n",
    "#newtable3 = newtable2.append(htpinf)\n",
    "#newtable = newtable.sort_values(by=['date'])\n",
    "#newtable4 = newtable3.append(newtable)\n",
    "#newtable4 = newtable4.sort_values(by=['date'])\n",
    "#empinf['month'] = empinf.month[:1]\n",
    "#empinf['month']\n",
    "#empmonth = empinf.groupby('month')\n",
    "#empmonth.size()\n",
    "#empinf['month'] = empinf['month'].str.slice(0,1)\n",
    "#empinf = empinf.sort_values(by = ['month'])"
   ]
  },
  {
   "cell_type": "code",
   "execution_count": null,
   "metadata": {},
   "outputs": [],
   "source": [
    "import pandas \n",
    "import numpy\n",
    "devinf = pandas.read_csv(\"device_info.csv\")\n",
    "emainf = pandas.read_csv(\"email_info.csv\")\n",
    "empinf = pandas.read_csv(\"employee_info.csv\")\n",
    "emailf = emailf.rename(columns = {'size':'sizeofemail'})\n",
    "htpinf = pandas.read_csv(\"http_info.csv\")\n",
    "loginf = pandas.read_csv(\"logon_info.csv\")"
   ]
  },
  {
   "cell_type": "markdown",
   "metadata": {},
   "source": [
    "Data (fictitious) collected for 6 months:  5/2017 - 10/2017\n",
    "\n",
    "device_info.csv (~156k records)\n",
    "* Fields: id, date, user, pc, activity (connect/disconnect)\n",
    "* Tracks use of removable storage media (e.g. thumb drives)\n",
    "* Some connect(s) may be missing disconnect(s), since machine may be turned off without a proper disconnect. \n",
    "\n",
    "email_info.csv (~370k records)\n",
    "* Fields: id, date, to, from, size (bytes), attachment_count\n",
    "* Emails can have multiple recipients\n",
    "\n",
    "employee_info.csv (~6k records)\n",
    "* Fields: month, employee_name, user_id, email, role, supervisor\n",
    "* Record of who is employed at the beginning of each month, approximately 1000 employees\n",
    "\n",
    "HTTP_info.csv (~860k records)\n",
    "* Fields: id, date, user, pc, url\n",
    "* Web pages visited\n",
    "\n",
    "logon_info.csv (~313k records)\n",
    "* Fields: id, date, user, pc, activity (Logon/Logoff)\n",
    "* Logoff requires preceding logon\n",
    "* Screen unlocks are recorded as logons. Screen locks are not recorded.\n",
    "* Each user has an assigned machine, but can share with others.\n",
    "* Some machines are shared in a computer lab room. \n",
    "* Some of the users are IT administrators and access many machines.\n",
    "\n",
    "Additional Note:\n",
    "Field ids are unique within a .csv file but are not necessarily unique across all files."
   ]
  },
  {
   "cell_type": "code",
   "execution_count": null,
   "metadata": {},
   "outputs": [],
   "source": [
    "empbymonth = empinf.groupby('month')\n",
    "\n",
    "mayemp = empbymonth.get_group('5/1/17')\n",
    "juneemp = empbymonth.get_group('6/1/17')\n",
    "julyemp = empbymonth.get_group('7/1/17')\n",
    "augustemp = empbymonth.get_group('8/1/17')\n",
    "septemberemp = empbymonth.get_group('9/1/17')\n",
    "octoberemp = empbymonth.get_group('10/1/17')\n",
    "novemberemp = empbymonth.get_group('11/1/17')\n",
    "\n",
    "del mayemp['month']\n",
    "del juneemp['month']\n",
    "del julyemp['month']\n",
    "del augustemp['month']\n",
    "del septemberemp['month']\n",
    "del octoberemp['month']\n",
    "del novemberemp['month']\n",
    "\n",
    "empfiredmay = pandas.DataFrame()\n",
    "empfiredjune = pandas.DataFrame()\n",
    "empfiredjuly = pandas.DataFrame()\n",
    "empfiredaug = pandas.DataFrame()\n",
    "empfiredsept = pandas.DataFrame()\n",
    "empfiredoct = pandas.DataFrame()\n",
    "\n",
    "empfiredmay = pandas.merge(mayemp, juneemp, indicator='exist', how='left')\n",
    "empfiredmay['exist'] = numpy.where(empfiredmay.exist == 'both', True, False)\n",
    "empfiredmay = empfiredmay.loc[empfiredmay['exist'] == False]\n",
    "empfiredmay = empfiredmay.reset_index(drop=True)\n",
    "empfiredmay['exist'] = 'May'\n",
    "empfiredmay=empfiredmay.rename(columns = {'exist':'month_fired'})\n",
    "\n",
    "empfiredjune = pandas.merge(juneemp, julyemp, indicator='exist', how='left')\n",
    "empfiredjune['exist'] = numpy.where(empfiredjune.exist == 'both', True, False)\n",
    "empfiredjune = empfiredjune.loc[empfiredjune['exist'] == False]\n",
    "empfiredjune = empfiredjune.reset_index(drop=True)\n",
    "empfiredjune['exist'] = 'June'\n",
    "empfiredjune=empfiredjune.rename(columns = {'exist':'month_fired'})\n",
    "\n",
    "empfiredjuly = pandas.merge(julyemp, augustemp, indicator='exist', how='left')\n",
    "empfiredjuly['exist'] = numpy.where(empfiredjuly.exist == 'both', True, False)\n",
    "empfiredjuly = empfiredjuly.loc[empfiredjuly['exist'] == False]\n",
    "empfiredjuly = empfiredjuly.reset_index(drop=True)\n",
    "empfiredjuly['exist'] = 'July'\n",
    "empfiredjuly=empfiredjuly.rename(columns = {'exist':'month_fired'})\n",
    "\n",
    "empfiredaug = pandas.merge(augustemp, septemberemp, indicator='exist', how='left')\n",
    "empfiredaug['exist'] = numpy.where(empfiredaug.exist == 'both', True, False)\n",
    "empfiredaug = empfiredaug.loc[empfiredaug['exist'] == False]\n",
    "empfiredaug = empfiredaug.reset_index(drop=True)\n",
    "empfiredaug['exist'] = 'August'\n",
    "empfiredaug=empfiredaug.rename(columns = {'exist':'month_fired'})\n",
    "\n",
    "empfiredsept = pandas.merge(septemberemp, octoberemp, indicator='exist', how='left')\n",
    "empfiredsept['exist'] = numpy.where(empfiredsept.exist == 'both', True, False)\n",
    "empfiredsept = empfiredsept.loc[empfiredsept['exist'] == False]\n",
    "empfiredsept = empfiredsept.reset_index(drop=True)\n",
    "empfiredsept['exist'] = 'September'\n",
    "empfiredsept=empfiredsept.rename(columns = {'exist':'month_fired'})\n",
    "\n",
    "empfiredoct = pandas.merge(octoberemp, novemberemp, indicator='exist', how='left')\n",
    "empfiredoct['exist'] = numpy.where(empfiredoct.exist == 'both', True, False)\n",
    "empfiredoct = empfiredoct.loc[empfiredoct['exist'] == False]\n",
    "empfiredoct = empfiredoct.reset_index(drop=True)\n",
    "empfiredoct['exist'] = 'October'\n",
    "empfiredoct=empfiredoct.rename(columns = {'exist':'month_fired'})\n",
    "\n",
    "allemployeesfired = pandas.DataFrame()\n",
    "allemployeesfired = pandas.concat([empfiredmay, empfiredjune, empfiredjuly, empfiredaug, empfiredsept, empfiredoct])\n",
    "allemployeesfired = allemployeesfired.reset_index(drop=True)"
   ]
  },
  {
   "cell_type": "code",
   "execution_count": null,
   "metadata": {},
   "outputs": [],
   "source": [
    "#Testing if any employees got hired... it doesn't look like it\n",
    "#emphiredtest = pandas.DataFrame()\n",
    "#emphiredtest = pandas.merge(juneemp, mayemp, indicator='exist', how='inner')\n",
    "#emphiredtest['exist'] = numpy.where(emphiredtest.exist == 'both', True, False)\n",
    "#emphiredtest = emphiredtest.loc[emphiredtest['exist'] == False]\n",
    "#emphiredtest"
   ]
  },
  {
   "cell_type": "code",
   "execution_count": null,
   "metadata": {
    "collapsed": true
   },
   "outputs": [],
   "source": [
    "allemployeesfired"
   ]
  },
  {
   "cell_type": "code",
   "execution_count": null,
   "metadata": {
    "scrolled": true
   },
   "outputs": [],
   "source": [
    "#emainf[emainf['from'] == 'Sonia.Nerea.Love@dtaa.com']\n",
    "#d[d.State == 'VA']\n",
    "#emainf.from == ['Chris.L.North@dtaa.com']"
   ]
  },
  {
   "cell_type": "code",
   "execution_count": null,
   "metadata": {
    "collapsed": true
   },
   "outputs": [],
   "source": [
    "devinf"
   ]
  },
  {
   "cell_type": "code",
   "execution_count": null,
   "metadata": {
    "scrolled": true
   },
   "outputs": [],
   "source": [
    "finalemployeelist = novemberemp.copy()\n",
    "finalemployeelist = finalemployeelist.append(allemployeesfired)\n",
    "finalemployeelist=finalemployeelist.rename(columns = {'user_id':'user'})\n",
    "del finalemployeelist['month_fired']\n",
    "namesandusers = finalemployeelist.loc[:,['employee_name', 'user']]\n",
    "namesandusers = namesandusers.reset_index(drop=True)\n",
    "devinf = pandas.merge(devinf, namesandusers, how='left')\n",
    "#devinf['employee_name'] = devinf.employee_name.fillna('TERMINATED')\n",
    "#devinf[(devinf['employee_name'] == 'TERMINATED')]\n",
    "htpinf = pandas.merge(htpinf, namesandusers, how='left')\n",
    "#htpinf['employee_name'] = htpinf.employee_name.fillna('TERMINATED')\n",
    "#htpinf[(htpinf['employee_name'] == 'TERMINATED')]\n",
    "namesandusers[namesandusers['employee_name'] == 'Daquan Wesley Mcknight']\n",
    "#first is DWM0143\n",
    "testlogs = loginf[loginf['user'] == 'DWM0143']\n",
    "#testlogs = [e.date[0:3] for e in testlogs]\n",
    "#for e in testlogs.date:\n",
    "#    testlogs['newdate'] = e[0:3]\n",
    "#data['date'] = data.datetime.str.slice(0,10)\n",
    "testlogs['newdate'] = testlogs.date.str.slice(0,2)\n",
    "#testlogs[testlogs['date'] == '06/07/17']\n",
    "testlogs[testlogs['newdate'] == '06']"
   ]
  },
  {
   "cell_type": "code",
   "execution_count": null,
   "metadata": {},
   "outputs": [],
   "source": [
    "namesandusers[namesandusers['employee_name'] == 'Gloria Naida Young']\n",
    "#first is DWM0143\n",
    "testlogs1 = loginf[loginf['user'] == 'GNY0144']\n",
    "testlogs1['newdate'] = testlogs1.date.str.slice(0,2)\n",
    "#testlogs1[testlogs1['date'] == '06/07/17']\n",
    "testlogs1[testlogs1['newdate'] == '06']"
   ]
  },
  {
   "cell_type": "code",
   "execution_count": null,
   "metadata": {
    "collapsed": true
   },
   "outputs": [],
   "source": [
    "devinf.sort_values(by=['id'])"
   ]
  },
  {
   "cell_type": "code",
   "execution_count": null,
   "metadata": {
    "collapsed": true
   },
   "outputs": [],
   "source": [
    "htpinf.sort_values(by=['id'])"
   ]
  },
  {
   "cell_type": "code",
   "execution_count": null,
   "metadata": {
    "scrolled": true
   },
   "outputs": [],
   "source": [
    "emainf.sort_values(by=['size'], ascending=False)\n",
    "emainf[emainf['size'] == 85904]"
   ]
  },
  {
   "cell_type": "code",
   "execution_count": null,
   "metadata": {
    "collapsed": true
   },
   "outputs": [],
   "source": []
  },
  {
   "cell_type": "code",
   "execution_count": null,
   "metadata": {
    "collapsed": true
   },
   "outputs": [],
   "source": [
    "devinf[devinf['user'] == 'WSP0210']"
   ]
  },
  {
   "cell_type": "code",
   "execution_count": null,
   "metadata": {
    "collapsed": true
   },
   "outputs": [],
   "source": [
    "loginf[loginf['user'] == 'WSP0210']"
   ]
  },
  {
   "cell_type": "code",
   "execution_count": null,
   "metadata": {
    "collapsed": true
   },
   "outputs": [],
   "source": [
    "#devinf[devinf['pc'] == 'PC=6241']\n",
    "namesandusers"
   ]
  },
  {
   "cell_type": "code",
   "execution_count": null,
   "metadata": {
    "scrolled": true
   },
   "outputs": [],
   "source": [
    "allemployeesfired"
   ]
  },
  {
   "cell_type": "code",
   "execution_count": null,
   "metadata": {
    "collapsed": true
   },
   "outputs": [],
   "source": [
    "#trying to graph attachment/email use and connect/disconnects to see if there are outliers\n",
    "#group the device connect/disconnect by user, bar graph user v len(connects)\n",
    "cnctbyuser = devinf.groupby('user')\n",
    "#cnctbyuser['numcon'] = cnctbyuser.size()\n",
    "graphdeviceuse = pandas.DataFrame()\n",
    "graphdeviceuse['numcondis'] = cnctbyuser.size()\n",
    "#graphdeviceuse['user'] = cnctbyuser.user\n",
    "graphdeviceuse = graphdeviceuse.sort_values(by=['numcondis'], ascending=False)\n",
    "graphdeviceuse"
   ]
  },
  {
   "cell_type": "code",
   "execution_count": null,
   "metadata": {
    "collapsed": true
   },
   "outputs": [],
   "source": [
    "%matplotlib inline\n",
    "graphdeviceuse.plot.hist()"
   ]
  },
  {
   "cell_type": "code",
   "execution_count": null,
   "metadata": {
    "collapsed": true
   },
   "outputs": [],
   "source": [
    "webbyuser = htpinf.groupby('user')\n",
    "graphwebuse = pandas.DataFrame()\n",
    "graphwebuse['numwebvisit'] = webbyuser.size()\n",
    "graphwebuse"
   ]
  },
  {
   "cell_type": "code",
   "execution_count": null,
   "metadata": {
    "collapsed": true
   },
   "outputs": [],
   "source": [
    "graphwebuse.plot.hist()"
   ]
  },
  {
   "cell_type": "code",
   "execution_count": null,
   "metadata": {
    "collapsed": true
   },
   "outputs": [],
   "source": [
    "emailbyuser = emainf.groupby('from')\n",
    "graphemailuse = pandas.DataFrame()\n",
    "graphemailuse['numemailsent'] = emailbyuser.size()\n",
    "graphemailuse.plot.hist()"
   ]
  },
  {
   "cell_type": "code",
   "execution_count": null,
   "metadata": {
    "collapsed": true
   },
   "outputs": [],
   "source": [
    "emainf\n",
    "graphemailuse['sumattach'] = emailbyuser.attachments.sum()\n",
    "graphemailuse.plot.hist('sumattach')"
   ]
  },
  {
   "cell_type": "code",
   "execution_count": null,
   "metadata": {
    "collapsed": true
   },
   "outputs": [],
   "source": [
    "logonbyuser = loginf.groupby('user')\n",
    "graphloguse = pandas.DataFrame()\n",
    "graphloguse['numlogon'] = logonbyuser.size()\n",
    "graphloguse = graphloguse.sort_values(by='numlogon', ascending=False)\n",
    "#graphloguse['numlogon'] = (logonbyuser.size() > 1250)\n",
    "#graphloguse.plot.hist()\n",
    "graphloguse"
   ]
  },
  {
   "cell_type": "code",
   "execution_count": null,
   "metadata": {
    "collapsed": true
   },
   "outputs": [],
   "source": [
    "allemployeesfired.sort_values(by = ['employee_name'])"
   ]
  },
  {
   "cell_type": "code",
   "execution_count": null,
   "metadata": {
    "collapsed": true
   },
   "outputs": [],
   "source": [
    "graphemailuse = graphemailuse.sort_values(by='numemailsent', ascending=False)\n",
    "graphemailuse"
   ]
  },
  {
   "cell_type": "code",
   "execution_count": null,
   "metadata": {
    "collapsed": true
   },
   "outputs": [],
   "source": [
    "graphemailuse = graphemailuse.sort_values(by='sumattach', ascending=False)\n",
    "graphemailuse"
   ]
  },
  {
   "cell_type": "code",
   "execution_count": null,
   "metadata": {
    "collapsed": true
   },
   "outputs": [],
   "source": [
    "graphwebuse = graphwebuse.sort_values(by='numwebvisit', ascending=False)\n",
    "graphwebuse"
   ]
  },
  {
   "cell_type": "code",
   "execution_count": null,
   "metadata": {},
   "outputs": [],
   "source": [
    "#graphemailuse['sumattach'] = emailbyuser.size.sum()"
   ]
  },
  {
   "cell_type": "code",
   "execution_count": null,
   "metadata": {
    "collapsed": true
   },
   "outputs": [],
   "source": [
    "htpinf[htpinf['user'] == 'WSP0210']"
   ]
  },
  {
   "cell_type": "code",
   "execution_count": null,
   "metadata": {},
   "outputs": [],
   "source": [
    "devinf[devinf['user'] == 'DWM0143']\n",
    "devinf[devinf['user'] == 'GNY0144']"
   ]
  },
  {
   "cell_type": "code",
   "execution_count": null,
   "metadata": {
    "collapsed": true
   },
   "outputs": [],
   "source": []
  }
 ],
 "metadata": {
  "kernelspec": {
   "display_name": "Python 3",
   "language": "python",
   "name": "python3"
  },
  "language_info": {
   "codemirror_mode": {
    "name": "ipython",
    "version": 3
   },
   "file_extension": ".py",
   "mimetype": "text/x-python",
   "name": "python",
   "nbconvert_exporter": "python",
   "pygments_lexer": "ipython3",
   "version": "3.6.3"
  }
 },
 "nbformat": 4,
 "nbformat_minor": 2
}
